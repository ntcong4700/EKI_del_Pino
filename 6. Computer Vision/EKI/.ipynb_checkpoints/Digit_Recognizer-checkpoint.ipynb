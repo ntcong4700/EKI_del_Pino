{
 "cells": [
  {
   "cell_type": "code",
   "execution_count": null,
   "id": "initial_id",
   "metadata": {},
   "outputs": [],
   "source": [
    "import pandas as pd\n",
    "import numpy as np\n",
    "from keras.models import Sequential\n",
    "from keras.layers import Conv2D, MaxPooling2D, Flatten, Dense\n",
    "from keras.optimizers import RMSprop\n",
    "from keras.utils import to_categorical\n",
    "from sklearn.model_selection import train_test_split\n",
    "\n",
    "# loading data\n",
    "train = pd.read_csv('data/train.csv')\n",
    "test = pd.read_csv('data/test.csv')\n",
    "\n",
    "\n",
    "# Split features and labels in training set\n",
    "X = train.drop(labels = ['label'], axis = 1)\n",
    "y = train['label']\n",
    "# One hot encode labels\n",
    "Y = to_categorical(y, num_classes = 10)\n",
    "# Normalize pixel data\n",
    "X = X/255.0\n",
    "# Reshape image in 3 dimensions (height = 28px, width = 28px , canal = 1)\n",
    "X = X.values.reshape(-1, 28, 28, 1)\n",
    "\n",
    "# Split the data in training and test set\n",
    "X_train, X_test, Y_train, Y_test = train_test_split(X, Y)\n",
    "\n",
    "model = Sequential([\n",
    "    Conv2D(32, (3,3), activation='relu', input_shape=(28,28,1)),\n",
    "    MaxPooling2D(2, 2),\n",
    "    Conv2D(64, (3,3), activation='relu'),\n",
    "    MaxPooling2D(2,2),\n",
    "    Flatten(),\n",
    "    Dense(512, activation='relu'),\n",
    "    Dense(10, activation='softmax')\n",
    "])\n",
    "\n",
    "# Compiling model\n",
    "model.compile(optimizer=RMSprop(), loss='categorical_crossentropy', metrics=['accuracy'])\n",
    "# Fitting model\n",
    "history = model.fit(X_train, Y_train, batch_size=100, epochs=10, validation_data=(X_test, Y_test))\n",
    "\n",
    "# Compiling model\n",
    "model.compile(optimizer=RMSprop(), loss='categorical_crossentropy', metrics=['accuracy'])\n",
    "# Fitting model\n",
    "history = model.fit(X, Y, batch_size=100, epochs = 1)\n",
    "\n",
    "X_train, X_test, Y_train, Y_test = train_test_split(X, Y)\n",
    "\n",
    "test_array = test.to_numpy()  # DataFrame in ein NumPy-Array umwandeln\n",
    "test_array = test_array.reshape(-1, 28, 28, 1)  # Umformung der Eingabe in (None, 28, 28, 1)\n",
    "\n",
    "results = model.predict(test_array)\n",
    "# One hot decoding: Select the index with the maximum probability\n",
    "results = np.argmax(results, axis = 1)\n",
    "# Add columns ImageID and Label\n",
    "results = pd.Series(results, name=\"Label\")\n",
    "submission = pd.concat([pd.Series(range(1, len(results)+1), name = \"ImageId\"), results], axis = 1)\n",
    "# Generate CSV file\n",
    "submission.to_csv('data/submission.csv', index=False)"
   ]
  },
  {
   "cell_type": "code",
   "execution_count": null,
   "id": "2a755879-f08c-4b6f-b89d-e5541600f3bc",
   "metadata": {},
   "outputs": [],
   "source": []
  },
  {
   "cell_type": "code",
   "execution_count": null,
   "id": "ed6e4d54-d9ea-43c8-ba9b-d312e303e764",
   "metadata": {},
   "outputs": [],
   "source": []
  }
 ],
 "metadata": {
  "kernelspec": {
   "display_name": "Python 3 (ipykernel)",
   "language": "python",
   "name": "python3"
  },
  "language_info": {
   "codemirror_mode": {
    "name": "ipython",
    "version": 3
   },
   "file_extension": ".py",
   "mimetype": "text/x-python",
   "name": "python",
   "nbconvert_exporter": "python",
   "pygments_lexer": "ipython3",
   "version": "3.12.8"
  }
 },
 "nbformat": 4,
 "nbformat_minor": 5
}
